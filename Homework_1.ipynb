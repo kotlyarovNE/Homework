{
 "cells": [
  {
   "cell_type": "code",
   "execution_count": 47,
   "metadata": {},
   "outputs": [],
   "source": [
    "class Test:\n",
    "    @staticmethod\n",
    "    def assert_equals(a, b, *args, **kwargs):\n",
    "        assert a == b\n",
    "        print('Passed')"
   ]
  },
  {
   "cell_type": "markdown",
   "metadata": {},
   "source": [
    "Problem https://edabit.com/challenge/XXJbGFEkrMWCp8yFn (1 point)"
   ]
  },
  {
   "cell_type": "code",
   "execution_count": 48,
   "metadata": {},
   "outputs": [],
   "source": [
    "def give_me_something(a):\n",
    "    return \"something \" + a"
   ]
  },
  {
   "cell_type": "code",
   "execution_count": 49,
   "metadata": {},
   "outputs": [
    {
     "name": "stdout",
     "output_type": "stream",
     "text": [
      "Passed\n",
      "Passed\n",
      "Passed\n"
     ]
    }
   ],
   "source": [
    "Test.assert_equals(give_me_something(\"a\"), \"something a\")\n",
    "Test.assert_equals(give_me_something(\"is cooking\"), \"something is cooking\")\n",
    "Test.assert_equals(give_me_something(\" is cooking\"), \"something  is cooking\")"
   ]
  },
  {
   "cell_type": "markdown",
   "metadata": {},
   "source": [
    "Problem https://edabit.com/challenge/TcJXTPJBsfJ2Wgkk4 (2 point)"
   ]
  },
  {
   "cell_type": "code",
   "execution_count": 50,
   "metadata": {},
   "outputs": [],
   "source": [
    "def paths(n):\n",
    "    if n==1:\n",
    "        return 1\n",
    "    return n *paths(n-1)"
   ]
  },
  {
   "cell_type": "code",
   "execution_count": 51,
   "metadata": {},
   "outputs": [
    {
     "name": "stdout",
     "output_type": "stream",
     "text": [
      "Passed\n",
      "Passed\n",
      "Passed\n",
      "Passed\n",
      "Passed\n",
      "Passed\n",
      "Passed\n",
      "Passed\n"
     ]
    }
   ],
   "source": [
    "Test.assert_equals(paths(1), 1)\n",
    "Test.assert_equals(paths(2), 2)\n",
    "Test.assert_equals(paths(3), 6)\n",
    "Test.assert_equals(paths(4), 24)\n",
    "Test.assert_equals(paths(5), 120)\n",
    "Test.assert_equals(paths(6), 720)\n",
    "Test.assert_equals(paths(7), 5040)\n",
    "Test.assert_equals(paths(8), 40320)"
   ]
  },
  {
   "cell_type": "markdown",
   "metadata": {},
   "source": [
    "Problem https://edabit.com/challenge/gwqqc5p3oiFXRJAQm (1 point)"
   ]
  },
  {
   "cell_type": "code",
   "execution_count": 52,
   "metadata": {},
   "outputs": [],
   "source": [
    "def football_points(wins, draws, losses):\n",
    "    return wins*3 + draws"
   ]
  },
  {
   "cell_type": "code",
   "execution_count": 53,
   "metadata": {},
   "outputs": [
    {
     "name": "stdout",
     "output_type": "stream",
     "text": [
      "Passed\n",
      "Passed\n",
      "Passed\n",
      "Passed\n",
      "Passed\n"
     ]
    }
   ],
   "source": [
    "Test.assert_equals(football_points(1, 2, 3), 5)\n",
    "Test.assert_equals(football_points(5, 5, 5), 20)\n",
    "Test.assert_equals(football_points(1, 0, 0), 3)\n",
    "Test.assert_equals(football_points(0, 7, 0), 7)\n",
    "Test.assert_equals(football_points(0, 0, 15), 0)"
   ]
  },
  {
   "cell_type": "markdown",
   "metadata": {},
   "source": [
    "Problem https://edabit.com/challenge/GPmoRCZKkyNtoJMcN (1 point)"
   ]
  },
  {
   "cell_type": "code",
   "execution_count": 54,
   "metadata": {},
   "outputs": [],
   "source": [
    "def string_int(txt):\n",
    "    return int(txt)"
   ]
  },
  {
   "cell_type": "code",
   "execution_count": 55,
   "metadata": {},
   "outputs": [
    {
     "name": "stdout",
     "output_type": "stream",
     "text": [
      "Passed\n",
      "Passed\n",
      "Passed\n",
      "Passed\n"
     ]
    }
   ],
   "source": [
    "Test.assert_equals(string_int(\"6\"), 6)\n",
    "Test.assert_equals(string_int(\"2\"), 2)\n",
    "Test.assert_equals(string_int(\"10\"), 10)\n",
    "Test.assert_equals(string_int(\"666\"), 666)"
   ]
  },
  {
   "cell_type": "markdown",
   "metadata": {},
   "source": [
    "Problem https://edabit.com/challenge/Yx2a9B57vXRuPevGh (1 point)"
   ]
  },
  {
   "cell_type": "code",
   "execution_count": 56,
   "metadata": {},
   "outputs": [],
   "source": [
    "def find_perimeter(length, width):\n",
    "    return 2*(length+width)"
   ]
  },
  {
   "cell_type": "code",
   "execution_count": 57,
   "metadata": {},
   "outputs": [
    {
     "name": "stdout",
     "output_type": "stream",
     "text": [
      "Passed\n",
      "Passed\n",
      "Passed\n"
     ]
    }
   ],
   "source": [
    "Test.assert_equals(find_perimeter(6, 7), 26)\n",
    "Test.assert_equals(find_perimeter(20, 10), 60)\n",
    "Test.assert_equals(find_perimeter(2, 9), 22)"
   ]
  },
  {
   "cell_type": "markdown",
   "metadata": {},
   "source": [
    "Problem https://edabit.com/challenge/nyeNvKWdDFKRAk4Da (1 point)"
   ]
  },
  {
   "cell_type": "code",
   "execution_count": 58,
   "metadata": {},
   "outputs": [],
   "source": [
    "def how_many_seconds(hours):\n",
    "    return hours * 3600"
   ]
  },
  {
   "cell_type": "code",
   "execution_count": 59,
   "metadata": {},
   "outputs": [
    {
     "name": "stdout",
     "output_type": "stream",
     "text": [
      "Passed\n",
      "Passed\n",
      "Passed\n",
      "Passed\n"
     ]
    }
   ],
   "source": [
    "Test.assert_equals(how_many_seconds(2), 7200)\n",
    "Test.assert_equals(how_many_seconds(10), 36000)\n",
    "Test.assert_equals(how_many_seconds(24), 86400)\n",
    "Test.assert_equals(how_many_seconds(36), 129600)"
   ]
  },
  {
   "cell_type": "markdown",
   "metadata": {},
   "source": [
    "Problem https://edabit.com/challenge/PjcKZRx8YE5KzRN63 (1 point)"
   ]
  },
  {
   "cell_type": "code",
   "execution_count": 60,
   "metadata": {},
   "outputs": [],
   "source": [
    "def convert(hours, minutes):\n",
    "    return hours*60*60 + minutes*60"
   ]
  },
  {
   "cell_type": "code",
   "execution_count": 61,
   "metadata": {},
   "outputs": [
    {
     "name": "stdout",
     "output_type": "stream",
     "text": [
      "Passed\n",
      "Passed\n",
      "Passed\n"
     ]
    }
   ],
   "source": [
    "Test.assert_equals(convert(1, 0), 3600)\n",
    "Test.assert_equals(convert(1, 3), 3780)\n",
    "Test.assert_equals(convert(0, 30), 1800)"
   ]
  },
  {
   "cell_type": "markdown",
   "metadata": {},
   "source": [
    "Problem https://edabit.com/challenge/hEQ3rBrKrztQK8qAd (1 point)"
   ]
  },
  {
   "cell_type": "code",
   "execution_count": 62,
   "metadata": {},
   "outputs": [],
   "source": [
    "def get_first_value(number_list):\n",
    "    return number_list[0]\n"
   ]
  },
  {
   "cell_type": "code",
   "execution_count": 63,
   "metadata": {},
   "outputs": [
    {
     "name": "stdout",
     "output_type": "stream",
     "text": [
      "Passed\n",
      "Passed\n",
      "Passed\n",
      "Passed\n",
      "Passed\n",
      "Passed\n"
     ]
    }
   ],
   "source": [
    "Test.assert_equals(get_first_value([1, 2, 3]), 1)\n",
    "Test.assert_equals(get_first_value([80, 5, 100]), 80)\n",
    "Test.assert_equals(get_first_value([-500, 0, 50]), -500)\n",
    "Test.assert_equals(get_first_value([5, 2, 3]), 5)\n",
    "Test.assert_equals(get_first_value([75675, 5, 100]), 75675)\n",
    "Test.assert_equals(get_first_value([-52320, 0, 50]), -52320)"
   ]
  },
  {
   "cell_type": "markdown",
   "metadata": {},
   "source": [
    "Problem https://edabit.com/challenge/QzXtDnSZL6y4ZcEvT (1 point)"
   ]
  },
  {
   "cell_type": "code",
   "execution_count": 64,
   "metadata": {},
   "outputs": [],
   "source": [
    "def animals(chicken,cow,pig):\n",
    "  return 2*chicken + 4*(cow + pig)"
   ]
  },
  {
   "cell_type": "code",
   "execution_count": 65,
   "metadata": {},
   "outputs": [
    {
     "name": "stdout",
     "output_type": "stream",
     "text": [
      "Passed\n",
      "Passed\n",
      "Passed\n",
      "Passed\n"
     ]
    }
   ],
   "source": [
    "Test.assert_equals(animals(5, 2, 8), 50)\n",
    "Test.assert_equals(animals(3, 4, 7), 50)\n",
    "Test.assert_equals(animals(1, 2, 3), 22)\n",
    "Test.assert_equals(animals(3, 5, 2), 34)"
   ]
  },
  {
   "cell_type": "markdown",
   "metadata": {},
   "source": [
    "Problem https://edabit.com/challenge/Zerwo2AENbvRZTe83 (1 point)"
   ]
  },
  {
   "cell_type": "code",
   "execution_count": 66,
   "metadata": {},
   "outputs": [],
   "source": [
    "def next_edge(*args):\n",
    "    return sum(args) - 1"
   ]
  },
  {
   "cell_type": "code",
   "execution_count": 67,
   "metadata": {},
   "outputs": [
    {
     "name": "stdout",
     "output_type": "stream",
     "text": [
      "Passed\n",
      "Passed\n",
      "Passed\n",
      "Passed\n",
      "Passed\n"
     ]
    }
   ],
   "source": [
    "Test.assert_equals(next_edge(5, 4), 8)\n",
    "Test.assert_equals(next_edge(8, 3), 10)\n",
    "Test.assert_equals(next_edge(7, 9), 15)\n",
    "Test.assert_equals(next_edge(10, 4), 13)\n",
    "Test.assert_equals(next_edge(7, 2), 8)"
   ]
  },
  {
   "cell_type": "markdown",
   "metadata": {},
   "source": [
    "Problem https://edabit.com/challenge/aWLTzrRsrw7RakYrN (1 point)"
   ]
  },
  {
   "cell_type": "code",
   "execution_count": 68,
   "metadata": {},
   "outputs": [],
   "source": [
    "def tri_area(base, height):\n",
    "    return (base * height) / 2"
   ]
  },
  {
   "cell_type": "code",
   "execution_count": 69,
   "metadata": {},
   "outputs": [
    {
     "name": "stdout",
     "output_type": "stream",
     "text": [
      "Passed\n",
      "Passed\n",
      "Passed\n",
      "Passed\n",
      "Passed\n"
     ]
    }
   ],
   "source": [
    "Test.assert_equals(tri_area(3, 2), 3)\n",
    "Test.assert_equals(tri_area(5, 4), 10)\n",
    "Test.assert_equals(tri_area(10, 10), 50)\n",
    "Test.assert_equals(tri_area(0, 60), 0)\n",
    "Test.assert_equals(tri_area(12, 11), 66)"
   ]
  },
  {
   "cell_type": "markdown",
   "metadata": {},
   "source": [
    "Problem https://edabit.com/challenge/KWoj7kWiHRqJtG6S2 (1 point)"
   ]
  },
  {
   "cell_type": "code",
   "execution_count": 70,
   "metadata": {},
   "outputs": [],
   "source": [
    "def remainder(x, y): \n",
    "    return x % y"
   ]
  },
  {
   "cell_type": "code",
   "execution_count": 71,
   "metadata": {},
   "outputs": [
    {
     "name": "stdout",
     "output_type": "stream",
     "text": [
      "Passed\n",
      "Passed\n",
      "Passed\n",
      "Passed\n"
     ]
    }
   ],
   "source": [
    "Test.assert_equals(remainder(7, 2), 1)\n",
    "Test.assert_equals(remainder(3, 4), 3)\n",
    "Test.assert_equals(remainder(5, 5), 0)\n",
    "Test.assert_equals(remainder(1, 3), 1)"
   ]
  },
  {
   "cell_type": "markdown",
   "metadata": {},
   "source": [
    "Problem https://edabit.com/challenge/A7hyDnb72prWryeuY (1 point)"
   ]
  },
  {
   "cell_type": "code",
   "execution_count": 72,
   "metadata": {},
   "outputs": [],
   "source": [
    "def findLargestNum(nums):\n",
    "    return max(nums)"
   ]
  },
  {
   "cell_type": "code",
   "execution_count": 73,
   "metadata": {},
   "outputs": [
    {
     "name": "stdout",
     "output_type": "stream",
     "text": [
      "Passed\n",
      "Passed\n",
      "Passed\n",
      "Passed\n",
      "Passed\n",
      "Passed\n",
      "Passed\n"
     ]
    }
   ],
   "source": [
    "Test.assert_equals(findLargestNum([4, 5, 1, 3]), 5)\n",
    "Test.assert_equals(findLargestNum([13, 27, 18, 26]), 27)\n",
    "Test.assert_equals(findLargestNum([32, 35, 37, 39]), 39)\n",
    "Test.assert_equals(findLargestNum([1000, 1001, 857, 1]), 1001)\n",
    "Test.assert_equals(findLargestNum([27364, 837363, 736736, 73635]), 837363)\n",
    "Test.assert_equals(findLargestNum([30, 2, 40, 3]), 40)\n",
    "Test.assert_equals(findLargestNum([0, 1, 0, 0, 1]), 1)"
   ]
  },
  {
   "cell_type": "markdown",
   "metadata": {},
   "source": [
    "Problem https://edabit.com/challenge/ecSZ5kDBwCD3ctjE6 (1 point)"
   ]
  },
  {
   "cell_type": "code",
   "execution_count": 74,
   "metadata": {},
   "outputs": [],
   "source": [
    "def find_smallest_num(lst):\n",
    "    return min(lst)"
   ]
  },
  {
   "cell_type": "code",
   "execution_count": 75,
   "metadata": {},
   "outputs": [
    {
     "name": "stdout",
     "output_type": "stream",
     "text": [
      "Passed\n",
      "Passed\n",
      "Passed\n",
      "Passed\n",
      "Passed\n",
      "Passed\n",
      "Passed\n",
      "Passed\n",
      "Passed\n",
      "Passed\n"
     ]
    }
   ],
   "source": [
    "Test.assert_equals(find_smallest_num([34, 15, 88, 2]), 2)\n",
    "Test.assert_equals(find_smallest_num([34, -345, -1, 100]), -345)\n",
    "Test.assert_equals(find_smallest_num([-76, 1.345, 1, 0]), -76)\n",
    "Test.assert_equals(find_smallest_num([0.4356, 0.8795, 0.5435, -0.9999]), -0.9999)\n",
    "Test.assert_equals(find_smallest_num([7, 7, 7]), 7)\n",
    "Test.assert_equals(find_smallest_num([4, 6, 1, 3, 4, 5, 5, 1]), 1)\n",
    "Test.assert_equals(find_smallest_num([-4, -6, -8, -1]), -8)\n",
    "Test.assert_equals(find_smallest_num([54, 76, 23, 54]), 23)\n",
    "Test.assert_equals(find_smallest_num([100]), 100)\n",
    "Test.assert_equals(find_smallest_num([0, 1, 2, 3, 4, 5]), 0)"
   ]
  },
  {
   "cell_type": "markdown",
   "metadata": {},
   "source": [
    "Problem https://edabit.com/challenge/Rx2pkSA9dCmtwS8xt (1 point)"
   ]
  },
  {
   "cell_type": "code",
   "execution_count": 76,
   "metadata": {},
   "outputs": [],
   "source": [
    "def less_than_or_equal_to_zero(num):\n",
    "   if num <= 0:\n",
    "      return True\n",
    "   else:\n",
    "      return False"
   ]
  },
  {
   "cell_type": "code",
   "execution_count": 77,
   "metadata": {},
   "outputs": [
    {
     "name": "stdout",
     "output_type": "stream",
     "text": [
      "Passed\n",
      "Passed\n",
      "Passed\n"
     ]
    }
   ],
   "source": [
    "Test.assert_equals(less_than_or_equal_to_zero(5), False)\n",
    "Test.assert_equals(less_than_or_equal_to_zero(0), True)\n",
    "Test.assert_equals(less_than_or_equal_to_zero(-5), True)"
   ]
  },
  {
   "cell_type": "markdown",
   "metadata": {},
   "source": [
    "Problem https://edabit.com/challenge/rZToTkR5eB9Zn4zLh (1 point)"
   ]
  },
  {
   "cell_type": "code",
   "execution_count": 78,
   "metadata": {},
   "outputs": [],
   "source": [
    "def addition(a, b):\n",
    "    return a + b"
   ]
  },
  {
   "cell_type": "code",
   "execution_count": 79,
   "metadata": {},
   "outputs": [
    {
     "name": "stdout",
     "output_type": "stream",
     "text": [
      "Passed\n",
      "Passed\n",
      "Passed\n"
     ]
    }
   ],
   "source": [
    "Test.assert_equals(addition(2,3), 5)\n",
    "Test.assert_equals(addition(-3,-6), -9)\n",
    "Test.assert_equals(addition(7,3), 10)"
   ]
  },
  {
   "cell_type": "markdown",
   "metadata": {},
   "source": [
    "Problem https://edabit.com/challenge/KjCS7occ9hfu5snpb (1 point)"
   ]
  },
  {
   "cell_type": "code",
   "execution_count": 80,
   "metadata": {},
   "outputs": [],
   "source": [
    "def addition(num):\n",
    "    return num + 1"
   ]
  },
  {
   "cell_type": "code",
   "execution_count": 81,
   "metadata": {},
   "outputs": [
    {
     "name": "stdout",
     "output_type": "stream",
     "text": [
      "Passed\n",
      "Passed\n",
      "Passed\n",
      "Passed\n",
      "Passed\n"
     ]
    }
   ],
   "source": [
    "Test.assert_equals(addition(2), 3, \"2 plus 1 equals 3.\")\n",
    "Test.assert_equals(addition(-9), -8, \"-8 plus 1 equals 9.\")\n",
    "Test.assert_equals(addition(0), 1, \"0 plus 1 equals 1.\")\n",
    "Test.assert_equals(addition(999), 1000, \"999 plus 1 equals 1000.\")\n",
    "Test.assert_equals(addition(73), 74, \"73 plus 1 equals 74.\")"
   ]
  }
 ],
 "metadata": {
  "kernelspec": {
   "display_name": "Python 3",
   "language": "python",
   "name": "python3"
  },
  "language_info": {
   "codemirror_mode": {
    "name": "ipython",
    "version": 3
   },
   "file_extension": ".py",
   "mimetype": "text/x-python",
   "name": "python",
   "nbconvert_exporter": "python",
   "pygments_lexer": "ipython3",
   "version": "3.8.3"
  },
  "widgets": {
   "application/vnd.jupyter.widget-state+json": {
    "state": {},
    "version_major": 2,
    "version_minor": 0
   }
  }
 },
 "nbformat": 4,
 "nbformat_minor": 4
}
