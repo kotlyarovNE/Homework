{
 "cells": [
  {
   "cell_type": "markdown",
   "metadata": {},
   "source": [
    "Котляров Николай, 308 группа"
   ]
  },
  {
   "cell_type": "markdown",
   "metadata": {},
   "source": [
    "Task 1:"
   ]
  },
  {
   "cell_type": "code",
   "execution_count": 4,
   "metadata": {},
   "outputs": [
    {
     "name": "stdout",
     "output_type": "stream",
     "text": [
      "[[0.536903   0.40226681 0.06862737]\n",
      " [0.14620389 0.69658666 0.59997768]\n",
      " [0.4037809  0.14717574 0.3224453 ]\n",
      " [0.78628298 0.30745523 0.23675402]\n",
      " [0.71030258 0.23267867 0.68106493]\n",
      " [0.88907287 0.69566305 0.40758581]\n",
      " [0.99106352 0.41129102 0.7758745 ]\n",
      " [0.45367896 0.83302324 0.82400332]\n",
      " [0.37169072 0.63815004 0.56062338]\n",
      " [0.87248181 0.87798559 0.23714969]]\n"
     ]
    }
   ],
   "source": [
    "import numpy as np\n",
    "arr = np.random.random((10,3))\n",
    "print(arr)"
   ]
  },
  {
   "cell_type": "code",
   "execution_count": 16,
   "metadata": {},
   "outputs": [
    {
     "name": "stdout",
     "output_type": "stream",
     "text": [
      "[0.536903   0.59997768 0.4037809  0.30745523 0.68106493 0.40758581\n",
      " 0.41129102 0.45367896 0.56062338 0.23714969]\n"
     ]
    }
   ],
   "source": [
    "print(arr[np.arange(10),np.argmin(abs(arr - 0.5), axis = 1)])"
   ]
  },
  {
   "cell_type": "markdown",
   "metadata": {},
   "source": [
    "Task 2:"
   ]
  },
  {
   "cell_type": "code",
   "execution_count": 18,
   "metadata": {},
   "outputs": [
    {
     "name": "stdout",
     "output_type": "stream",
     "text": [
      "[[0.40803609 0.82966263 0.26018859 0.94623245 0.08580301 0.24139272]\n",
      " [0.57921466 0.23477349 0.17973266 0.99341686 0.85624642 0.82976086]\n",
      " [0.76433957 0.24611617 0.54700876 0.04315687 0.83060225 0.03752426]\n",
      " [0.80061557 0.45837651 0.07783158 0.40114142 0.28258938 0.49250927]\n",
      " [0.59880006 0.9437002  0.99553259 0.05985277 0.63343958 0.6397259 ]\n",
      " [0.93554819 0.52282712 0.12554297 0.88807451 0.19219636 0.16635687]]\n"
     ]
    }
   ],
   "source": [
    "arr = np.random.random((6,6))\n",
    "print(arr)"
   ]
  },
  {
   "cell_type": "code",
   "execution_count": 21,
   "metadata": {},
   "outputs": [
    {
     "name": "stdout",
     "output_type": "stream",
     "text": [
      "[ 6.79183909 15.64548446 31.71910334 58.23090194 45.11556056 75.43242721]\n"
     ]
    }
   ],
   "source": [
    "print(np.sum(arr,axis = 1)/np.min(arr,axis=0))"
   ]
  },
  {
   "cell_type": "markdown",
   "metadata": {},
   "source": [
    "Task 3:"
   ]
  },
  {
   "cell_type": "code",
   "execution_count": 23,
   "metadata": {},
   "outputs": [
    {
     "name": "stdout",
     "output_type": "stream",
     "text": [
      "5\n"
     ]
    }
   ],
   "source": [
    "x = np.array([6, 2, 0, 3, 0, 0, 5, 7, 0])\n",
    "\n",
    "mask = x == 0\n",
    "print(np.max(x[1:][mask[:-1]]))"
   ]
  },
  {
   "cell_type": "markdown",
   "metadata": {},
   "source": [
    "Task 4:"
   ]
  },
  {
   "cell_type": "code",
   "execution_count": 24,
   "metadata": {},
   "outputs": [
    {
     "name": "stdout",
     "output_type": "stream",
     "text": [
      "[2. 2. 2. 2. 1. 4. 1. 1. 2. 1.]\n"
     ]
    }
   ],
   "source": [
    "x = np.ones(10)\n",
    "i = np.array([0, 1, 2, 3, 5, 5, 5, 8])\n",
    "\n",
    "print(x + np.bincount(i, None, len(x)))"
   ]
  },
  {
   "cell_type": "markdown",
   "metadata": {},
   "source": [
    "Task 5:"
   ]
  },
  {
   "cell_type": "code",
   "execution_count": 69,
   "metadata": {},
   "outputs": [
    {
     "name": "stdout",
     "output_type": "stream",
     "text": [
      "[[-1.52571314  2.27999636  0.5589988 ]\n",
      " [ 0.34510178  3.97673784  2.06829555]\n",
      " [ 1.19877461  1.32557928  0.59626538]\n",
      " [ 0.39959154  1.80278782  2.90679375]]\n",
      "[[-1.52571314  2.27999636  0.5589988 ]\n",
      " [ 0.34510178  3.97673784  2.06829555]\n",
      " [ 1.19877461  1.32557928  0.59626538]\n",
      " [ 0.39959154  1.80278782  2.90679375]]\n"
     ]
    }
   ],
   "source": [
    "def New_kmeans(obs, k, iter = 20, thresh = 1e-05) :\n",
    "    vec = New_whiten(obs)\n",
    "    (M, N) = vec.shape\n",
    "    codebook = vec[0:k]    \n",
    "    distortion1 = 0\n",
    "    distortion2 = 0\n",
    "    b = np.arange(M)\n",
    "    distortion2 += np.linalg.norm(vec[k:]-codebook[k-1], None)**2 #norm    \n",
    "    \n",
    "    while (abs(distortion2 - distortion1) > thresh) :\n",
    "        distortion1 = distortion2\n",
    "        distortion2 = 0\n",
    "        for i in range(M):\n",
    "            b[i] = np.argmin(np.linalg.norm(codebook-vec[i], None, 1, True))\n",
    "        matr = np.hstack((vec, np.reshape(b, (M, 1))))\n",
    "        for i in range(k):\n",
    "            codebook[i] = np.vstack(row for row in matr if row[-1] == i).mean(axis=0)[:-1]\n",
    "            distortion2 += np.linalg.norm((np.vstack(row for row in matr if row[-1] == i))[:, :-1] - codebook[i], None)**2 \n",
    "            \n",
    "    return np.append(codebook, distortion2)\n",
    "\n",
    "def vec_to_cluster(obs, codebook) :\n",
    "    vec = New_whiten(obs)\n",
    "    (M, N) = vec.shape\n",
    "    b = np.arange(M)\n",
    "    for i in range(M) :\n",
    "        b[i] = np.argmin(np.linalg.norm(codebook-vec[i], None, 1, True)) \n",
    "    \n",
    "    return  np.hstack((vec, np.reshape(b, (M, 1))))\n",
    "\n",
    "from scipy.cluster.vq import whiten\n",
    "def New_whiten(obs):\n",
    "    (M, N) = obs.shape\n",
    "    for i in range(N):\n",
    "        obs[:, i] = obs[:, i]/np.std(obs[:, i])\n",
    "    return obs   \n",
    "\n",
    "o = np.array([[-8.4, 4.3, 1.5],\n",
    "              [1.9, 7.5, 5.55],\n",
    "              [6.6, 2.5, 1.6,],\n",
    "              [2.2, 3.4, 7.8]])\n",
    "\n",
    "print(whiten(o))\n",
    "print(New_whiten(o))"
   ]
  },
  {
   "cell_type": "markdown",
   "metadata": {},
   "source": [
    "Task 6: не получилось сделать"
   ]
  },
  {
   "cell_type": "code",
   "execution_count": null,
   "metadata": {},
   "outputs": [],
   "source": []
  }
 ],
 "metadata": {
  "kernelspec": {
   "display_name": "Python 3",
   "language": "python",
   "name": "python3"
  },
  "language_info": {
   "codemirror_mode": {
    "name": "ipython",
    "version": 3
   },
   "file_extension": ".py",
   "mimetype": "text/x-python",
   "name": "python",
   "nbconvert_exporter": "python",
   "pygments_lexer": "ipython3",
   "version": "3.8.3"
  }
 },
 "nbformat": 4,
 "nbformat_minor": 4
}
