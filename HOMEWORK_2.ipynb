{
 "cells": [
  {
   "cell_type": "markdown",
   "metadata": {},
   "source": [
    "Котляров Николай, 308 группа"
   ]
  },
  {
   "cell_type": "markdown",
   "metadata": {},
   "source": [
    "Task 1:"
   ]
  },
  {
   "cell_type": "code",
   "execution_count": 7,
   "metadata": {},
   "outputs": [
    {
     "name": "stdout",
     "output_type": "stream",
     "text": [
      "[[0.62732359 0.02541751 0.04560706]\n",
      " [0.92243427 0.3807781  0.83628087]\n",
      " [0.64420222 0.52857024 0.91697467]\n",
      " [0.99589545 0.04192988 0.57701138]\n",
      " [0.8198521  0.74172743 0.38057711]\n",
      " [0.174842   0.08498634 0.05301595]\n",
      " [0.71384194 0.34971887 0.11297314]\n",
      " [0.00257022 0.34576879 0.55940855]\n",
      " [0.9287829  0.41755994 0.77102611]\n",
      " [0.44407958 0.99621188 0.28684764]]\n"
     ]
    }
   ],
   "source": [
    "import numpy as np\n",
    "arr = np.random.random((10,3))\n",
    "print(arr)"
   ]
  },
  {
   "cell_type": "code",
   "execution_count": 16,
   "metadata": {},
   "outputs": [
    {
     "name": "stdout",
     "output_type": "stream",
     "text": [
      "[0.536903   0.59997768 0.4037809  0.30745523 0.68106493 0.40758581\n",
      " 0.41129102 0.45367896 0.56062338 0.23714969]\n"
     ]
    }
   ],
   "source": [
    "print(arr[np.arange(10),np.argmin(abs(arr - 0.5), axis = 1)])"
   ]
  },
  {
   "cell_type": "markdown",
   "metadata": {},
   "source": [
    "Task 2:"
   ]
  },
  {
   "cell_type": "code",
   "execution_count": 18,
   "metadata": {},
   "outputs": [
    {
     "name": "stdout",
     "output_type": "stream",
     "text": [
      "[[0.40803609 0.82966263 0.26018859 0.94623245 0.08580301 0.24139272]\n",
      " [0.57921466 0.23477349 0.17973266 0.99341686 0.85624642 0.82976086]\n",
      " [0.76433957 0.24611617 0.54700876 0.04315687 0.83060225 0.03752426]\n",
      " [0.80061557 0.45837651 0.07783158 0.40114142 0.28258938 0.49250927]\n",
      " [0.59880006 0.9437002  0.99553259 0.05985277 0.63343958 0.6397259 ]\n",
      " [0.93554819 0.52282712 0.12554297 0.88807451 0.19219636 0.16635687]]\n"
     ]
    }
   ],
   "source": [
    "arr = np.random.random((6,6))\n",
    "print(arr)"
   ]
  },
  {
   "cell_type": "code",
   "execution_count": 21,
   "metadata": {},
   "outputs": [
    {
     "name": "stdout",
     "output_type": "stream",
     "text": [
      "[ 6.79183909 15.64548446 31.71910334 58.23090194 45.11556056 75.43242721]\n"
     ]
    }
   ],
   "source": [
    "print(np.sum(arr,axis = 1)/np.min(arr,axis=0))"
   ]
  },
  {
   "cell_type": "markdown",
   "metadata": {},
   "source": [
    "Task 3:"
   ]
  },
  {
   "cell_type": "code",
   "execution_count": 23,
   "metadata": {},
   "outputs": [
    {
     "name": "stdout",
     "output_type": "stream",
     "text": [
      "5\n"
     ]
    }
   ],
   "source": [
    "x = np.array([6, 2, 0, 3, 0, 0, 5, 7, 0])\n",
    "\n",
    "mask = x == 0\n",
    "print(np.max(x[1:][mask[:-1]]))"
   ]
  },
  {
   "cell_type": "markdown",
   "metadata": {},
   "source": [
    "Task 4:"
   ]
  },
  {
   "cell_type": "code",
   "execution_count": 24,
   "metadata": {},
   "outputs": [
    {
     "name": "stdout",
     "output_type": "stream",
     "text": [
      "[2. 2. 2. 2. 1. 4. 1. 1. 2. 1.]\n"
     ]
    }
   ],
   "source": [
    "x = np.ones(10)\n",
    "i = np.array([0, 1, 2, 3, 5, 5, 5, 8])\n",
    "\n",
    "print(x + np.bincount(i, None, len(x)))"
   ]
  },
  {
   "cell_type": "markdown",
   "metadata": {},
   "source": [
    "Task 5:"
   ]
  },
  {
   "cell_type": "code",
   "execution_count": 22,
   "metadata": {},
   "outputs": [
    {
     "name": "stdout",
     "output_type": "stream",
     "text": [
      "[[-1.52571314  2.27999636  0.5589988 ]\n",
      " [ 0.34510178  3.97673784  2.06829555]\n",
      " [ 1.19877461  1.32557928  0.59626538]\n",
      " [ 0.39959154  1.80278782  2.90679375]]\n",
      "[[-1.52571314  2.27999636  0.5589988 ]\n",
      " [ 0.34510178  3.97673784  2.06829555]\n",
      " [ 1.19877461  1.32557928  0.59626538]\n",
      " [ 0.39959154  1.80278782  2.90679375]]\n"
     ]
    }
   ],
   "source": [
    "def New_kmeans(obs, k, iter = 20, thresh = 1e-05) :\n",
    "    vec = New_whiten(obs)\n",
    "    (M, N) = vec.shape\n",
    "    codebook = vec[0:k]    \n",
    "    distortion1 = 0\n",
    "    distortion2 = 0\n",
    "    b = np.arange(M)\n",
    "    distortion2 += np.linalg.norm(vec[k:]-codebook[k-1], None)**2 #norm    \n",
    "    \n",
    "    while (abs(distortion2 - distortion1) > thresh) :\n",
    "        distortion1 = distortion2\n",
    "        distortion2 = 0\n",
    "        for i in range(M):\n",
    "            b[i] = np.argmin(np.linalg.norm(codebook-vec[i], None, 1, True))\n",
    "        matr = np.hstack((vec, np.reshape(b, (M, 1))))\n",
    "        for i in range(k):\n",
    "            codebook[i] = matr[matr[:, -1] == i].mean(axis=0)[:-1]\n",
    "            distortion2 += np.linalg.norm((matr[matr[:, -1] == i])[:, :-1] - codebook[i], None)**2 \n",
    "            \n",
    "    return np.append(codebook, distortion2)\n",
    "\n",
    "def vec_to_cluster(obs, codebook) :\n",
    "    vec = New_whiten(obs)\n",
    "    (M, N) = vec.shape\n",
    "    b = np.arange(M)\n",
    "    for i in range(M) :\n",
    "        b[i] = np.argmin(np.linalg.norm(codebook-vec[i], None, 1, True)) \n",
    "    \n",
    "    return  np.hstack((vec, np.reshape(b, (M, 1))))\n",
    "\n",
    "from scipy.cluster.vq import whiten\n",
    "def New_whiten(obs):\n",
    "    (M, N) = obs.shape\n",
    "    for i in range(N):\n",
    "        obs[:, i] = obs[:, i]/np.std(obs[:, i])\n",
    "    return obs   \n",
    "\n",
    "o = np.array([[-8.4, 4.3, 1.5],\n",
    "              [1.9, 7.5, 5.55],\n",
    "              [6.6, 2.5, 1.6,],\n",
    "              [2.2, 3.4, 7.8]])\n",
    "\n",
    "print(whiten(o))\n",
    "print(New_whiten(o))"
   ]
  },
  {
   "cell_type": "markdown",
   "metadata": {},
   "source": [
    "Task 6:"
   ]
  },
  {
   "cell_type": "code",
   "execution_count": 66,
   "metadata": {},
   "outputs": [],
   "source": [
    "url = 'https://raw.githubusercontent.com/sharmaroshan/Clustering-of-Mall-Customers/master/Mall_Customers.csv'\n",
    "data = np.loadtxt(url, delimiter=',', dtype=object, skiprows=1)\n",
    "data[:, 1] = data[:, 1] == 'Male'\n",
    "data = data.astype(float)\n",
    "\n",
    "import matplotlib.pyplot as plt"
   ]
  },
  {
   "cell_type": "markdown",
   "metadata": {},
   "source": [
    "# Возраст - Доход:"
   ]
  },
  {
   "cell_type": "code",
   "execution_count": 82,
   "metadata": {},
   "outputs": [
    {
     "data": {
      "image/png": "[encoded data removed]",
      "text/plain": [
       "<Figure size 432x288 with 1 Axes>"
      ]
     },
     "metadata": {
      "needs_background": "light"
     },
     "output_type": "display_data"
    }
   ],
   "source": [
    "k = 7\n",
    "arr = np.zeros(k)\n",
    "\n",
    "for i in range(k):\n",
    "    arr[i] = New_kmeans(data[:, 2:4], i+1)[-1]\n",
    "\n",
    "plt.plot(np.arange(1, k+1, 1), arr, '-o')\n",
    "plt.ylabel('distortion')\n",
    "plt.xlabel('the number of clusters')\n",
    "plt.grid(True)\n",
    "plt.show()"
   ]
  },
  {
   "cell_type": "markdown",
   "metadata": {},
   "source": [
    "# using elbow method k = 3"
   ]
  },
  {
   "cell_type": "code",
   "execution_count": 83,
   "metadata": {},
   "outputs": [
    {
     "name": "stdout",
     "output_type": "stream",
     "text": [
      "[[4.02626193 1.97532561]\n",
      " [1.91649184 1.74218883]\n",
      " [2.6158074  3.43898167]]\n"
     ]
    },
    {
     "data": {
      "image/png": "[encoded data removed]",
      "text/plain": [
       "<Figure size 432x288 with 1 Axes>"
      ]
     },
     "metadata": {
      "needs_background": "light"
     },
     "output_type": "display_data"
    }
   ],
   "source": [
    "codebook = np.resize(New_kmeans(data[:, 2:4], 3)[:-1], [3, 2])\n",
    "print(codebook)\n",
    "\n",
    "x = vec_to_cluster(data[:, 2:4], code_book)\n",
    "group1 = x[x[:, -1] == 0]\n",
    "group2 = x[x[:, -1] == 1]\n",
    "group3 = x[x[:, -1] == 2]\n",
    "\n",
    "plt.scatter(group1[:, 0], group1[:, 1], c='y', label='1 group')\n",
    "plt.scatter(group2[:, 0], group2[:, 1], c='b', label='2 group')\n",
    "plt.scatter(group3[:, 0], group3[:, 1], c='g', label='3 group')\n",
    "plt.axis('equal')\n",
    "plt.xlabel('Age')\n",
    "plt.ylabel('Annual Income')\n",
    "plt.legend()\n",
    "plt.show()"
   ]
  },
  {
   "cell_type": "markdown",
   "metadata": {},
   "source": [
    "Годовой доход молодых (1 group) и пожилых(3 group) людей ниже дохода покупателей средних лет (2 group)"
   ]
  },
  {
   "cell_type": "markdown",
   "metadata": {},
   "source": [
    "# Возраст - покупательский индекс"
   ]
  },
  {
   "cell_type": "code",
   "execution_count": 84,
   "metadata": {},
   "outputs": [
    {
     "data": {
      "image/png": "[encoded data removed]",
      "text/plain": [
       "<Figure size 432x288 with 1 Axes>"
      ]
     },
     "metadata": {
      "needs_background": "light"
     },
     "output_type": "display_data"
    }
   ],
   "source": [
    "k = 7\n",
    "arr = np.zeros(k)\n",
    "\n",
    "for i in range(k):\n",
    "    arr[i] = New_kmeans(data[:, [2,4]], i+1)[-1]\n",
    "plt.plot(np.arange(1, k+1, 1), arr, '-o')\n",
    "plt.ylabel('distortion')\n",
    "plt.xlabel('the number of clusters')\n",
    "plt.grid(True)\n",
    "plt.show()"
   ]
  },
  {
   "cell_type": "markdown",
   "metadata": {},
   "source": [
    "# using elbow method k = 4"
   ]
  },
  {
   "cell_type": "code",
   "execution_count": 85,
   "metadata": {},
   "outputs": [
    {
     "name": "stdout",
     "output_type": "stream",
     "text": [
      "[[4.06190021 1.59918649]\n",
      " [2.21623779 3.21947806]\n",
      " [2.8064826  0.74563408]\n",
      " [1.88595942 1.99445033]]\n"
     ]
    },
    {
     "data": {
      "image/png": "[encoded data removed]",
      "text/plain": [
       "<Figure size 432x288 with 1 Axes>"
      ]
     },
     "metadata": {
      "needs_background": "light"
     },
     "output_type": "display_data"
    }
   ],
   "source": [
    "code_book = np.resize(New_kmeans(data[:, [2,4]], 4)[:-1], [4, 2])\n",
    "print(code_book)\n",
    "\n",
    "x = vec_to_cluster(data[:, [2,4]], code_book)\n",
    "group1 = x[x[:, -1] == 0]\n",
    "group2 = x[x[:, -1] == 1]\n",
    "group3 = x[x[:, -1] == 2]\n",
    "group4 = x[x[:, -1] == 3]\n",
    "\n",
    "plt.scatter(group1[:, 0], group1[:, 1], c='y', label='4 group')\n",
    "plt.scatter(group3[:, 0], group3[:, 1], c='g', label='3 group')\n",
    "plt.scatter(group2[:, 0], group2[:, 1], c='b', label='2 group')\n",
    "plt.scatter(group4[:, 0], group4[:, 1], c='c', label='1 group')\n",
    "\n",
    "\n",
    "plt.axis('equal')\n",
    "plt.xlabel('Age')\n",
    "plt.ylabel('Spending Score')\n",
    "plt.legend()\n",
    "plt.show()"
   ]
  },
  {
   "cell_type": "markdown",
   "metadata": {},
   "source": [
    "Имеем 4 условные группы:  \n",
    "1)молодые люди, которые живут покупают товары по акциям  \n",
    "2)молодые люди, которые уже неплохо зарабатывают и спокойно ходят по магазинам  \n",
    "3)люди среднего возраста, имеющие небольшую зарплату  \n",
    "4)люди зрелого возраста, с обычной зарплатой"
   ]
  },
  {
   "cell_type": "markdown",
   "metadata": {},
   "source": [
    "# доход-покупательский индекс"
   ]
  },
  {
   "cell_type": "code",
   "execution_count": 86,
   "metadata": {},
   "outputs": [
    {
     "data": {
      "image/png": "[encoded data removed]",
      "text/plain": [
       "<Figure size 432x288 with 1 Axes>"
      ]
     },
     "metadata": {
      "needs_background": "light"
     },
     "output_type": "display_data"
    }
   ],
   "source": [
    "k = 10\n",
    "arr = np.zeros(k)\n",
    "\n",
    "for i in range(k):\n",
    "    arr[i] = New_kmeans(data[:, 3:5], i+1)[-1]\n",
    "plt.plot(np.arange(1, k+1, 1), arr, '-o')\n",
    "plt.ylabel('distortion')\n",
    "plt.xlabel('the number of clusters')\n",
    "plt.grid(True)\n",
    "plt.show()"
   ]
  },
  {
   "cell_type": "markdown",
   "metadata": {},
   "source": [
    "# using elbow method k=5"
   ]
  },
  {
   "cell_type": "code",
   "execution_count": 87,
   "metadata": {},
   "outputs": [
    {
     "name": "stdout",
     "output_type": "stream",
     "text": [
      "[[2.19488183 1.94161095]\n",
      " [3.4411634  3.21045358]\n",
      " [3.48933915 0.68734653]\n",
      " [1.11424605 3.10894835]\n",
      " [1.12511652 0.78398919]]\n"
     ]
    },
    {
     "data": {
      "image/png": "[encoded data removed]",
      "text/plain": [
       "<Figure size 432x288 with 1 Axes>"
      ]
     },
     "metadata": {
      "needs_background": "light"
     },
     "output_type": "display_data"
    }
   ],
   "source": [
    "code_book = np.resize(New_kmeans(data[:, 3:5], 5)[:-1], [5, 2])\n",
    "print(code_book)\n",
    "\n",
    "x = vec_to_cluster(data[:, 3:5], code_book)\n",
    "group1 = x[x[:, -1] == 0]\n",
    "group2 = x[x[:, -1] == 1]\n",
    "group3 = x[x[:, -1] == 2]\n",
    "group4 = x[x[:, -1] == 3]\n",
    "group5 = x[x[:, -1] == 4]\n",
    "\n",
    "plt.scatter(group1[:, 0], group1[:, 1], c='y', label='5 group')\n",
    "plt.scatter(group2[:, 0], group2[:, 1], c='g', label='4 group')\n",
    "plt.scatter(group3[:, 0], group3[:, 1], c='black', label='3 group')\n",
    "plt.scatter(group4[:, 0], group4[:, 1], c='r', label='2 group')\n",
    "plt.scatter(group5[:, 0], group5[:, 1], c='m', label='1 group')\n",
    "\n",
    "\n",
    "plt.axis('equal')\n",
    "plt.xlabel('Annual Income')\n",
    "plt.ylabel('Spending Score')\n",
    "plt.legend()\n",
    "plt.show()"
   ]
  },
  {
   "cell_type": "markdown",
   "metadata": {},
   "source": [
    "Получили симметричное разбиение на группы  \n",
    "1) бедные с низким уровнем покупатеьского индекса  \n",
    "2) бедные, но с выским уровем покупательского индекса  \n",
    "3) богатые с низким уровнем индекса  \n",
    "4) богатые с высокми уровнем индекса  \n",
    "5) что то среднее  "
   ]
  }
 ],
 "metadata": {
  "kernelspec": {
   "display_name": "Python 3",
   "language": "python",
   "name": "python3"
  },
  "language_info": {
   "codemirror_mode": {
    "name": "ipython",
    "version": 3
   },
   "file_extension": ".py",
   "mimetype": "text/x-python",
   "name": "python",
   "nbconvert_exporter": "python",
   "pygments_lexer": "ipython3",
   "version": "3.8.3"
  }
 },
 "nbformat": 4,
 "nbformat_minor": 4
}
